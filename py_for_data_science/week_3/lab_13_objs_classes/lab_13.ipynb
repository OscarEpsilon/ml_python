{
 "cells": [
  {
   "cell_type": "code",
   "execution_count": 1,
   "metadata": {},
   "outputs": [],
   "source": [
    "class Car:\n",
    "\n",
    "    def __init__(self, max_speed, milage):\n",
    "        self.max_speed = max_speed\n",
    "        self.milage = milage"
   ]
  },
  {
   "cell_type": "code",
   "execution_count": 3,
   "metadata": {},
   "outputs": [],
   "source": [
    "class Car:\n",
    "\n",
    "    color = \"white\"\n",
    "\n",
    "    def __init__(self, max_speed, milage):\n",
    "        self.max_speed = max_speed\n",
    "        self.milage = milage"
   ]
  },
  {
   "cell_type": "code",
   "execution_count": 6,
   "metadata": {},
   "outputs": [],
   "source": [
    "class Car:\n",
    "\n",
    "    color = \"white\"\n",
    "\n",
    "    def __init__(self, max_speed, milage):\n",
    "        self.max_speed = max_speed\n",
    "        self.milage = milage\n",
    "\n",
    "    def seating_cap(self, seating_capacity):\n",
    "        self.seating_cap = seating_capacity\n",
    "\n",
    "    def display(self):\n",
    "        print(self.color + \" \" + self.max_speed + \" \" + self.milage + \" \" + self.seating_cap)"
   ]
  },
  {
   "cell_type": "code",
   "execution_count": 7,
   "metadata": {},
   "outputs": [],
   "source": [
    "car1 = Car(200, 20)\n",
    "car1.seating_cap(5)\n",
    "\n",
    "car2 = Car(180, 25)\n",
    "car2.seating_cap(4)"
   ]
  },
  {
   "cell_type": "code",
   "execution_count": null,
   "metadata": {},
   "outputs": [],
   "source": []
  }
 ],
 "metadata": {
  "kernelspec": {
   "display_name": "Python 3",
   "language": "python",
   "name": "python3"
  },
  "language_info": {
   "codemirror_mode": {
    "name": "ipython",
    "version": 3
   },
   "file_extension": ".py",
   "mimetype": "text/x-python",
   "name": "python",
   "nbconvert_exporter": "python",
   "pygments_lexer": "ipython3",
   "version": "3.11.5"
  }
 },
 "nbformat": 4,
 "nbformat_minor": 2
}
