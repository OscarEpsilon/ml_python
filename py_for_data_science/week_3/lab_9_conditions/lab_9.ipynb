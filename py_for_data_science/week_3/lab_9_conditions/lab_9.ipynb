{
 "cells": [
  {
   "cell_type": "code",
   "execution_count": 1,
   "metadata": {},
   "outputs": [
    {
     "name": "stdout",
     "output_type": "stream",
     "text": [
      "This Album is Amazing\n"
     ]
    }
   ],
   "source": [
    "back_in_black_rating = 8.5\n",
    "\n",
    "if back_in_black_rating > 8:\n",
    "    print(\"This Album is Amazing\")"
   ]
  },
  {
   "cell_type": "code",
   "execution_count": 2,
   "metadata": {},
   "outputs": [
    {
     "name": "stdout",
     "output_type": "stream",
     "text": [
      "This Album is Amazing!\n"
     ]
    }
   ],
   "source": [
    "if back_in_black_rating > 8:\n",
    "    print(\"This Album is Amazing!\")\n",
    "else:\n",
    "    print(\"This album is ok.\")"
   ]
  },
  {
   "cell_type": "code",
   "execution_count": 4,
   "metadata": {},
   "outputs": [
    {
     "name": "stdout",
     "output_type": "stream",
     "text": [
      "1993\n"
     ]
    }
   ],
   "source": [
    "release_yr = 1993\n",
    "if release_yr < 1980 or release_yr == 1991 or release_yr == 1993:\n",
    "    print(release_yr)"
   ]
  }
 ],
 "metadata": {
  "kernelspec": {
   "display_name": "Python 3",
   "language": "python",
   "name": "python3"
  },
  "language_info": {
   "codemirror_mode": {
    "name": "ipython",
    "version": 3
   },
   "file_extension": ".py",
   "mimetype": "text/x-python",
   "name": "python",
   "nbconvert_exporter": "python",
   "pygments_lexer": "ipython3",
   "version": "3.11.5"
  }
 },
 "nbformat": 4,
 "nbformat_minor": 2
}
