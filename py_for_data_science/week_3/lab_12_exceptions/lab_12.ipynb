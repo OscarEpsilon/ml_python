{
 "cells": [
  {
   "cell_type": "code",
   "execution_count": 4,
   "metadata": {},
   "outputs": [
    {
     "name": "stdout",
     "output_type": "stream",
     "text": [
      "Error: Cannot divide by zero.\n",
      "None\n"
     ]
    }
   ],
   "source": [
    "def safe_divide(numer, denom):\n",
    "    try:\n",
    "        out = numer/denom\n",
    "        return out\n",
    "    except ZeroDivisionError:\n",
    "        print(\"Error: Cannot divide by zero.\")\n",
    "print(safe_divide(int(input(\"Numerator:\")),int(input(\"Denominator\"))))\n"
   ]
  },
  {
   "cell_type": "code",
   "execution_count": 7,
   "metadata": {},
   "outputs": [
    {
     "name": "stdout",
     "output_type": "stream",
     "text": [
      "Invalid input! Please enter a positive integer or a float value.\n",
      "None\n"
     ]
    }
   ],
   "source": [
    "import math\n",
    "\n",
    "def sqrt(input):\n",
    "    try:\n",
    "        out = math.sqrt(input)\n",
    "        return out\n",
    "    except ValueError:\n",
    "        print(\"Invalid input! Please enter a positive integer or a float value.\")\n",
    "print(sqrt(int(input(\"Value:\"))))"
   ]
  },
  {
   "cell_type": "code",
   "execution_count": 10,
   "metadata": {},
   "outputs": [
    {
     "name": "stdout",
     "output_type": "stream",
     "text": [
      "An error occurred during calculation.\n",
      "None\n"
     ]
    }
   ],
   "source": [
    "def calc(input):\n",
    "    try:\n",
    "        result = input / (input - 5)\n",
    "        return result\n",
    "    except:\n",
    "        print(\"An error occurred during calculation.\")\n",
    "print(calc(input(\"Value:\")))"
   ]
  }
 ],
 "metadata": {
  "kernelspec": {
   "display_name": "Python 3",
   "language": "python",
   "name": "python3"
  },
  "language_info": {
   "codemirror_mode": {
    "name": "ipython",
    "version": 3
   },
   "file_extension": ".py",
   "mimetype": "text/x-python",
   "name": "python",
   "nbconvert_exporter": "python",
   "pygments_lexer": "ipython3",
   "version": "3.11.5"
  }
 },
 "nbformat": 4,
 "nbformat_minor": 2
}
