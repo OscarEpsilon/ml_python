{
 "cells": [
  {
   "cell_type": "code",
   "execution_count": 45,
   "metadata": {},
   "outputs": [],
   "source": [
    "from random import randint as rnd\n",
    "\n",
    "memReg = 'members.txt'\n",
    "exReg = 'inactive.txt'\n",
    "fee =('yes','no')\n",
    "\n",
    "def genFiles(current,old):\n",
    "    with open(current,'w+') as writefile: \n",
    "        writefile.write('Membership No  Date Joined  Active  \\n')\n",
    "        data = \"{:^13}  {:<11}  {:<6}\\n\"\n",
    "\n",
    "        for rowno in range(20):\n",
    "            date = str(rnd(2015,2020))+ '-' + str(rnd(1,12))+'-'+str(rnd(1,25))\n",
    "            writefile.write(data.format(rnd(10000,99999),date,fee[rnd(0,1)]))\n",
    "\n",
    "\n",
    "    with open(old,'w+') as writefile: \n",
    "        writefile.write('Membership No  Date Joined  Active  \\n')\n",
    "        data = \"{:^13}  {:<11}  {:<6}\\n\"\n",
    "        for rowno in range(3):\n",
    "            date = str(rnd(2015,2020))+ '-' + str(rnd(1,12))+'-'+str(rnd(1,25))\n",
    "            writefile.write(data.format(rnd(10000,99999),date,fee[1]))\n",
    "\n",
    "\n",
    "genFiles(memReg,exReg)"
   ]
  },
  {
   "cell_type": "code",
   "execution_count": 47,
   "metadata": {},
   "outputs": [
    {
     "name": "stdout",
     "output_type": "stream",
     "text": [
      "Active Members: \n",
      "\n",
      "\n",
      "Membership No  Date Joined  Active  \n",
      "    99320      2016-5-1     yes   \n",
      "    47371      2017-9-10    yes   \n",
      "    42194      2019-4-15    yes   \n",
      "    94921      2015-10-8    yes   \n",
      "\n",
      "Inactive Members: \n",
      "\n",
      "\n",
      "Membership No  Date Joined  Active  \n",
      "    44764      2015-8-18    no    \n",
      "    95435      2020-2-17    no    \n",
      "    11357      2015-1-15    no    \n",
      "    51538      2019-12-13   no    \n",
      "    11170      2016-10-17   no    \n",
      "    81072      2017-12-11   no    \n",
      "    42277      2017-3-8     no    \n",
      "    70691      2017-10-18   no    \n",
      "    61588      2017-3-20    no    \n",
      "    72417      2015-7-12    no    \n",
      "    88945      2016-12-21   no    \n",
      "    95254      2017-4-1     no    \n",
      "    57434      2016-4-1     no    \n",
      "    38138      2017-8-24    no    \n",
      "    84811      2019-1-24    no    \n",
      "    53801      2019-10-1    no    \n",
      "    58666      2016-9-15    no    \n",
      "\n"
     ]
    }
   ],
   "source": [
    "def cleanFiles(currentMem, exMem):\n",
    "    with open(currentMem, 'r+') as cur_mems:\n",
    "        with open(exMem, 'a+') as ex_mems:\n",
    "            mem_list = cur_mems.readlines()\n",
    "            cur_mems.seek(0,0)\n",
    "            cur_mems.write(mem_list[0])\n",
    "            for memb in mem_list[1:-1]:\n",
    "                if memb.find('no') == -1:\n",
    "                    cur_mems.write(memb)\n",
    "                else:\n",
    "                    ex_mems.write(memb)\n",
    "            cur_mems.truncate()\n",
    "\n",
    "\n",
    "# The code below is to help you view the files.\n",
    "# Do not modify this code for this exercise.\n",
    "memReg = 'members.txt'\n",
    "exReg = 'inactive.txt'\n",
    "cleanFiles(memReg,exReg)\n",
    "\n",
    "\n",
    "headers = \"Membership No  Date Joined  Active  \\n\"\n",
    "with open(memReg,'r') as readFile:\n",
    "    print(\"Active Members: \\n\\n\")\n",
    "    print(readFile.read())\n",
    "    \n",
    "with open(exReg,'r') as readFile:\n",
    "    print(\"Inactive Members: \\n\\n\")\n",
    "    print(readFile.read())"
   ]
  },
  {
   "cell_type": "code",
   "execution_count": null,
   "metadata": {},
   "outputs": [],
   "source": []
  }
 ],
 "metadata": {
  "kernelspec": {
   "display_name": "Python 3",
   "language": "python",
   "name": "python3"
  },
  "language_info": {
   "codemirror_mode": {
    "name": "ipython",
    "version": 3
   },
   "file_extension": ".py",
   "mimetype": "text/x-python",
   "name": "python",
   "nbconvert_exporter": "python",
   "pygments_lexer": "ipython3",
   "version": "3.11.9"
  }
 },
 "nbformat": 4,
 "nbformat_minor": 2
}
